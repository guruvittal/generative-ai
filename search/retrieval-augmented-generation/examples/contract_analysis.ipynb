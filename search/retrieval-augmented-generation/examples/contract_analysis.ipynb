{
 "cells": [
  {
   "cell_type": "markdown",
   "metadata": {
    "id": "Uj7R48-ZXmTC"
   },
   "source": [
    "# Retrieval Augmented Generation (Using Open Source Vector Store) - Procurement Contract Analyst - Palm2 & LangChain\n"
   ]
  },
  {
   "cell_type": "markdown",
   "metadata": {
    "id": "SPG8eRQCcNQ3"
   },
   "source": [
    "## Installation & Authentication\n",
    "\n",
    "**Install `google-cloud-aiplatform` & `langchain`**\n"
   ]
  },
  {
   "cell_type": "code",
   "execution_count": null,
   "metadata": {
    "id": "IdsE3DEJcM35"
   },
   "outputs": [],
   "source": [
    "# Install langchain and related libraries\n",
    "!pip install langchain unstructured\n",
    "\n",
    "# Install Vertex AI LLM SDK\n",
    "! pip install google-cloud-aiplatform==1.25.0\n",
    "\n",
    "# Store docs in local vectorstore as index\n",
    "!pip install -q chromadb"
   ]
  },
  {
   "cell_type": "markdown",
   "metadata": {
    "id": "ptwMB9pqcniz"
   },
   "source": [
    "**Authenticate**\n",
    "Within the colab a simple user authentication is adequate.\n"
   ]
  },
  {
   "cell_type": "code",
   "execution_count": 8,
   "metadata": {
    "id": "HP80SWi0rIBL"
   },
   "outputs": [],
   "source": [
    "import sys\n",
    "\n",
    "if \"google.colab\" in sys.modules:\n",
    "    from google.colab import auth as google_auth\n",
    "\n",
    "    google_auth.authenticate_user()"
   ]
  },
  {
   "cell_type": "markdown",
   "metadata": {},
   "source": [
    "## Get Libraries & Classes\n"
   ]
  },
  {
   "cell_type": "markdown",
   "metadata": {
    "id": "4lcArn48r6pZ"
   },
   "source": [
    "**Reference Libraries**\n",
    "In this section, we will identify all the library classes that will be referenced in the code.\n",
    "\n",
    "**Classes Defined**\n",
    "\\_VertexCommon\n",
    "VertexLLM\n",
    "VertexEmbeddings\n",
    "\n",
    "**Functions Defined**\n",
    "rate_limit\n"
   ]
  },
  {
   "cell_type": "code",
   "execution_count": 9,
   "metadata": {
    "colab": {
     "base_uri": "https://localhost:8080/"
    },
    "id": "ax6hlCt7YbXx",
    "outputId": "38ecbcd3-83c9-41bf-cd4a-b4bb5cff1498"
   },
   "outputs": [
    {
     "name": "stdout",
     "output_type": "stream",
     "text": [
      "Vertex AI SDK version: 1.25.0\n"
     ]
    }
   ],
   "source": [
    "# Chroma DB as Vector Store Database\n",
    "from langchain.embeddings import VertexAIEmbeddings\n",
    "from langchain.embeddings.base import Embeddings\n",
    "from langchain.llms.base import LLM\n",
    "from typing import Any, Mapping, Optional, List, Dict\n",
    "from pydantic import BaseModel, Extra, root_validator\n",
    "import time\n",
    "from langchain.document_loaders import GCSDirectoryLoader\n",
    "from langchain.vectorstores import Chroma\n",
    "\n",
    "# Using Vertex AI\n",
    "import vertexai\n",
    "from google.cloud import aiplatform\n",
    "\n",
    "print(f\"Vertex AI SDK version: {aiplatform.__version__}\")\n",
    "\n",
    "# Using Google Cloud Storage Directory loader from langchain\n",
    "\n",
    "\n",
    "class _VertexCommon(BaseModel):\n",
    "    \"\"\"Wrapper around Vertex AI large language models.\n",
    "\n",
    "    To use, you should have the\n",
    "    ``google.cloud.aiplatform.private_preview.language_models`` python package\n",
    "    installed.\n",
    "    \"\"\"\n",
    "\n",
    "    client: Any = None  #: :meta private:\n",
    "    model_name: str = \"text-bison@001\"\n",
    "    \"\"\"Model name to use.\"\"\"\n",
    "\n",
    "    temperature: float = 0.2\n",
    "    \"\"\"What sampling temperature to use.\"\"\"\n",
    "\n",
    "    top_p: int = 0.8\n",
    "    \"\"\"Total probability mass of tokens to consider at each step.\"\"\"\n",
    "\n",
    "    top_k: int = 40\n",
    "    \"\"\"The number of highest probability tokens to keep for top-k filtering.\"\"\"\n",
    "\n",
    "    max_output_tokens: int = 200\n",
    "    \"\"\"The maximum number of tokens to generate in the completion.\"\"\"\n",
    "\n",
    "    @property\n",
    "    def _default_params(self) -> Mapping[str, Any]:\n",
    "        \"\"\"Get the default parameters for calling Vertex AI API.\"\"\"\n",
    "        return {\n",
    "            \"temperature\": self.temperature,\n",
    "            \"top_p\": self.top_p,\n",
    "            \"top_k\": self.top_k,\n",
    "            \"max_output_tokens\": self.max_output_tokens,\n",
    "        }\n",
    "\n",
    "    def _predict(self, prompt: str, stop: Optional[List[str]]) -> str:\n",
    "        res = self.client.predict(prompt, **self._default_params)\n",
    "        return self._enforce_stop_words(res.text, stop)\n",
    "\n",
    "    def _enforce_stop_words(self, text: str, stop: Optional[List[str]]) -> str:\n",
    "        if stop:\n",
    "            return enforce_stop_tokens(text, stop)\n",
    "        return text\n",
    "\n",
    "    @property\n",
    "    def _llm_type(self) -> str:\n",
    "        \"\"\"Return type of llm.\"\"\"\n",
    "        return \"vertex_ai\"\n",
    "\n",
    "\n",
    "class VertexLLM(_VertexCommon, LLM):\n",
    "    model_name: str = \"text-bison@001\"\n",
    "\n",
    "    @root_validator()\n",
    "    def validate_environment(cls, values: Dict) -> Dict:\n",
    "        \"\"\"Validate that the python package exists in environment.\"\"\"\n",
    "        try:\n",
    "            from vertexai.preview.language_models import TextGenerationModel\n",
    "        except ImportError:\n",
    "            raise ValueError(\"Could not import Vertex AI LLM python package. \")\n",
    "\n",
    "        try:\n",
    "            values[\"client\"] = TextGenerationModel.from_pretrained(values[\"model_name\"])\n",
    "        except AttributeError:\n",
    "            raise ValueError(\"Could not set Vertex Text Model client.\")\n",
    "\n",
    "        return values\n",
    "\n",
    "    def _call(self, prompt: str, stop: Optional[List[str]] = None) -> str:\n",
    "        \"\"\"Call out to Vertex AI's create endpoint.\n",
    "\n",
    "        Args:\n",
    "            prompt: The prompt to pass into the model.\n",
    "\n",
    "        Returns:\n",
    "            The string generated by the model.\n",
    "        \"\"\"\n",
    "        return self._predict(prompt, stop)\n",
    "\n",
    "\n",
    "def rate_limit(max_per_minute):\n",
    "    period = 60 / max_per_minute\n",
    "    print(\"Waiting\")\n",
    "    while True:\n",
    "        before = time.time()\n",
    "        yield\n",
    "        after = time.time()\n",
    "        elapsed = after - before\n",
    "        sleep_time = max(0, period - elapsed)\n",
    "        if sleep_time > 0:\n",
    "            print(\".\", end=\"\")\n",
    "            time.sleep(sleep_time)"
   ]
  },
  {
   "cell_type": "markdown",
   "metadata": {
    "id": "7yHf4ipxYyfy"
   },
   "source": [
    "## Initialize Vertex AI\n",
    "\n",
    "**We will need a project id and location where the Vertex compute and embedding will be hosted**\n"
   ]
  },
  {
   "cell_type": "code",
   "execution_count": 10,
   "metadata": {
    "id": "EZe8iS2CY2E8"
   },
   "outputs": [],
   "source": [
    "PROJECT_ID = \"PROJECT_ID\"  # @param {type:\"string\"}\n",
    "\n",
    "LOCATION = \"us-central1\"  # @param {type:\"string\"}\n",
    "\n",
    "# Initialize Vertex AI SDK\n",
    "vertexai.init(project=PROJECT_ID, location=LOCATION)"
   ]
  },
  {
   "cell_type": "markdown",
   "metadata": {
    "id": "7YozENqoAmm9"
   },
   "source": [
    "## Ingest the Contracts to build the context for the LLM\n",
    "\n",
    "_Load all the Procurement Contract Documents_\n"
   ]
  },
  {
   "cell_type": "code",
   "execution_count": 11,
   "metadata": {
    "id": "Td4rD2MQtM1O"
   },
   "outputs": [],
   "source": [
    "loader = GCSDirectoryLoader(\n",
    "    project_name=PROJECT_ID, bucket=\"contractunderstandingatticusdataset\"\n",
    ")\n",
    "documents = loader.load()"
   ]
  },
  {
   "cell_type": "markdown",
   "metadata": {
    "id": "5Da7_1bpFGpb"
   },
   "source": [
    "_Split documents into chunks as needed by the token limit of the LLM and let there be an overlap between the chunks_\n"
   ]
  },
  {
   "cell_type": "code",
   "execution_count": 12,
   "metadata": {
    "colab": {
     "base_uri": "https://localhost:8080/"
    },
    "id": "2E_qzSuMFHKt",
    "outputId": "2d75262a-4a8f-47ae-f67d-e3f50206f5fa"
   },
   "outputs": [
    {
     "name": "stdout",
     "output_type": "stream",
     "text": [
      "# of documents = 2150\n"
     ]
    }
   ],
   "source": [
    "# split the documents into chunks\n",
    "from langchain.text_splitter import RecursiveCharacterTextSplitter\n",
    "\n",
    "text_splitter = RecursiveCharacterTextSplitter(chunk_size=1000, chunk_overlap=100)\n",
    "docs = text_splitter.split_documents(documents)\n",
    "print(f\"# of documents = {len(docs)}\")"
   ]
  },
  {
   "cell_type": "markdown",
   "metadata": {
    "id": "f0htdnYAHonv"
   },
   "source": [
    "## Structuring the ingested documents in a vector space using a Vector Database\n"
   ]
  },
  {
   "cell_type": "markdown",
   "metadata": {
    "id": "TuwJlBNwIy0y"
   },
   "source": [
    "_Create an embedding vector engine for all the text in the contract documents that have been ingested_\n"
   ]
  },
  {
   "cell_type": "code",
   "execution_count": 13,
   "metadata": {
    "colab": {
     "base_uri": "https://localhost:8080/"
    },
    "id": "_nNWJ6XaH1fa",
    "outputId": "3b22df53-1d53-4c7d-ff9f-20180358f13e"
   },
   "outputs": [
    {
     "data": {
      "text/plain": [
       "VertexEmbeddings(model_name='textembedding-gecko@001', model=<class 'vertexai.language_models._language_models.TextEmbeddingModel'>, requests_per_minute=590)"
      ]
     },
     "execution_count": 13,
     "metadata": {},
     "output_type": "execute_result"
    }
   ],
   "source": [
    "# Define Text Embeddings model\n",
    "embedding = VertexAIEmbeddings()\n",
    "\n",
    "\n",
    "embedding"
   ]
  },
  {
   "cell_type": "markdown",
   "metadata": {
    "id": "_A6JEaReI96b"
   },
   "source": [
    "_Create a vector store and store the embeddings in the vector store_\n"
   ]
  },
  {
   "cell_type": "code",
   "execution_count": null,
   "metadata": {
    "colab": {
     "base_uri": "https://localhost:8080/"
    },
    "id": "ITiqOdEDJGOn",
    "outputId": "f6fbaf77-97f6-4c03-bdd4-e4d43e10d960"
   },
   "outputs": [],
   "source": [
    "contracts_vector_db = Chroma.from_documents(docs, embedding)"
   ]
  },
  {
   "cell_type": "markdown",
   "metadata": {
    "id": "oVCftNbU-wp0"
   },
   "source": [
    "## Obtain handle to the retriever\n",
    "\n",
    "We will use the native retriever provided by Chroma DB to perform similarity search within the contracts document vector store among the different document chunks so as to return that document chunk which has the lowest vectoral \"distance\" with the incoming user query.\n"
   ]
  },
  {
   "cell_type": "code",
   "execution_count": 15,
   "metadata": {
    "id": "Xb2VCn6e-0zp"
   },
   "outputs": [],
   "source": [
    "# Expose index to the retriever\n",
    "retriever = contracts_vector_db.as_retriever(\n",
    "    search_type=\"similarity\", search_kwargs={\"k\": 2}\n",
    ")"
   ]
  },
  {
   "cell_type": "markdown",
   "metadata": {
    "id": "QcwQNvfN_6Rn"
   },
   "source": [
    "## Define a Retrieval QA Chain to use retriever\n"
   ]
  },
  {
   "cell_type": "code",
   "execution_count": 16,
   "metadata": {
    "id": "ElWUO3fQAMaH"
   },
   "outputs": [],
   "source": [
    "# Create chain to answer questions\n",
    "from langchain.chains import RetrievalQA\n",
    "\n",
    "llm = VertexLLM(\n",
    "    model_name=\"text-bison-32k\",\n",
    "    max_output_tokens=256,\n",
    "    temperature=0.1,\n",
    "    top_p=0.8,\n",
    "    top_k=40,\n",
    "    verbose=True,\n",
    ")\n",
    "\n",
    "# Uses LLM to synthesize results from the search index.\n",
    "# We use Vertex PaLM Text API for LLM\n",
    "qa = RetrievalQA.from_chain_type(\n",
    "    llm=llm, chain_type=\"stuff\", retriever=retriever, return_source_documents=True\n",
    ")"
   ]
  },
  {
   "cell_type": "markdown",
   "metadata": {
    "id": "BHYlgYQhFTQW"
   },
   "source": [
    "## Leverage LLM to search from retriever\n"
   ]
  },
  {
   "cell_type": "markdown",
   "metadata": {
    "id": "tUZDkQOrGb9X"
   },
   "source": [
    "_Example:_\n"
   ]
  },
  {
   "cell_type": "code",
   "execution_count": 17,
   "metadata": {
    "colab": {
     "base_uri": "https://localhost:8080/"
    },
    "id": "JGTS8x7TFoOn",
    "outputId": "c497302f-4306-4cfd-9ff3-05c11cb480a8"
   },
   "outputs": [
    {
     "name": "stdout",
     "output_type": "stream",
     "text": [
      "Waiting\n",
      "{'query': 'Who all entered into agreement with Sagebrush?', 'result': ' Allison Transmission Holdings, Inc.', 'source_documents': [Document(page_content='Each party cooperated and participated in the drafting and preparation of this Agreement and the documents referred to herein, and any and all drafts relating thereto exchanged among the parties shall be deemed the work product of all of the parties and may not be construed against any party by reason of its drafting or preparation. Accordingly, any rule of law or any legal decision that would require interpretation of any ambiguities in this Agreement against any party that drafted or prepared it is of no application and is hereby expressly waived by each of the parties hereto, and any controversy over interpretations of this Agreement shall be decided without regards to events of drafting or preparation.\\n\\n[Signature Pages Follow]   7\\n\\nIN WITNESS WHEREOF, each of the parties hereto has executed this COOPERATION AGREEMENT or caused the same to be executed by its duly authorized representative as of the date first above written. Allison Transmission Holdings, Inc.', metadata={'source': 'gs://contractunderstandingatticusdataset/ALLISONTRANSMISSIONHOLDINGSINC_12_15_2014-EX-99.1-COOPERATION AGREEMENT.txt'}), Document(page_content='Each party cooperated and participated in the drafting and preparation of this Agreement and the documents referred to herein, and any and all drafts relating thereto exchanged among the parties shall be deemed the work product of all of the parties and may not be construed against any party by reason of its drafting or preparation. Accordingly, any rule of law or any legal decision that would require interpretation of any ambiguities in this Agreement against any party that drafted or prepared it is of no application and is hereby expressly waived by each of the parties hereto, and any controversy over interpretations of this Agreement shall be decided without regards to events of drafting or preparation.\\n\\n[Signature Pages Follow]   7\\n\\nIN WITNESS WHEREOF, each of the parties hereto has executed this COOPERATION AGREEMENT or caused the same to be executed by its duly authorized representative as of the date first above written. Allison Transmission Holdings, Inc.', metadata={'source': 'gs://contractunderstandingatticusdataset/ALLISONTRANSMISSIONHOLDINGSINC_12_15_2014-EX-99.1-COOPERATION AGREEMENT.txt'})]}\n"
     ]
    }
   ],
   "source": [
    "query = \"Who all entered into agreement with Sagebrush?\"\n",
    "result = qa({\"query\": query})\n",
    "print(result)"
   ]
  },
  {
   "cell_type": "markdown",
   "metadata": {
    "id": "FgYa4k1WiolM"
   },
   "source": [
    "## Build a Front End\n",
    "\n",
    "Enable a simple front end so users can query against contract documents and obtain intelligent answers with grounding information that references the base documents that was used to respond to user query\n"
   ]
  },
  {
   "cell_type": "code",
   "execution_count": null,
   "metadata": {},
   "outputs": [],
   "source": [
    "!pip install -q gradio"
   ]
  },
  {
   "cell_type": "code",
   "execution_count": null,
   "metadata": {
    "colab": {
     "base_uri": "https://localhost:8080/",
     "height": 688
    },
    "id": "CRjBQsXqirbC",
    "outputId": "d665269c-731a-4348-8c95-8e535e8ef9b9"
   },
   "outputs": [],
   "source": [
    "from google.cloud import storage\n",
    "import gradio as gr\n",
    "import markdown\n",
    "\n",
    "\n",
    "def chatbot(inputtext):\n",
    "    result = qa({\"query\": inputtext})\n",
    "\n",
    "    return (\n",
    "        result[\"result\"],\n",
    "        get_public_url(result[\"source_documents\"][0].metadata[\"source\"]),\n",
    "        result[\"source_documents\"][0].metadata[\"source\"],\n",
    "    )\n",
    "\n",
    "\n",
    "def get_public_url(uri):\n",
    "    \"\"\"Returns the public URL for a file in Google Cloud Storage.\"\"\"\n",
    "    # Split the URI into its components\n",
    "    components = uri.split(\"/\")\n",
    "\n",
    "    # Get the bucket name\n",
    "    bucket_name = components[2]\n",
    "\n",
    "    # Get the file name\n",
    "    file_name = components[3]\n",
    "\n",
    "    storage_client = storage.Client()\n",
    "    bucket = storage_client.bucket(bucket_name)\n",
    "    blob = bucket.blob(file_name)\n",
    "    return blob.public_url\n",
    "\n",
    "\n",
    "print(\"Launching Gradio\")\n",
    "\n",
    "iface = gr.Interface(\n",
    "    fn=chatbot,\n",
    "    inputs=[gr.Textbox(label=\"Query\")],\n",
    "    examples=[\n",
    "        \"Who are parties to ADMA agreement\",\n",
    "        \"What is the agreement between MICOA & Stratton Cheeseman\",\n",
    "        \"What is the commission % that Stratton Cheeseman will get from MICOA and how much will they get if MICOA's revenues are $100\",\n",
    "    ],\n",
    "    title=\"Contract Analyst\",\n",
    "    outputs=[\n",
    "        gr.Textbox(label=\"Response\"),\n",
    "        gr.Textbox(label=\"URL\"),\n",
    "        gr.Textbox(label=\"Cloud Storage URI\"),\n",
    "    ],\n",
    "    theme=gr.themes.Soft,\n",
    ")\n",
    "\n",
    "iface.launch(share=False)"
   ]
  }
 ],
 "metadata": {
  "colab": {
   "provenance": []
  },
  "kernelspec": {
   "display_name": "Python 3",
   "name": "python3"
  },
  "language_info": {
   "name": "python"
  }
 },
 "nbformat": 4,
 "nbformat_minor": 0
}
